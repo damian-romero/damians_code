{
 "cells": [
  {
   "cell_type": "markdown",
   "metadata": {},
   "source": [
    "# CP Packager Walkthrough"
   ]
  },
  {
   "cell_type": "markdown",
   "metadata": {},
   "source": [
    "This notebook will walk you through the basics of running the `cp_pakager.py` script."
   ]
  },
  {
   "cell_type": "markdown",
   "metadata": {},
   "source": [
    "## First things first"
   ]
  },
  {
   "cell_type": "markdown",
   "metadata": {},
   "source": [
    "In order to run this program, you should have a working version of python 3 and a copy of the cp_packager folder in your computer. Then, navigate to the folder's path (`etc/cp_packager/src/`) and run the program. You can use the help flag to see all the available options:\n",
    "\n",
    "```bash\n",
    "$ python3 cp_packager.py -h\n",
    "```"
   ]
  },
  {
   "cell_type": "markdown",
   "metadata": {},
   "source": [
    "## Overview"
   ]
  },
  {
   "cell_type": "markdown",
   "metadata": {},
   "source": [
    "The cp_packager.py script will create folders (directories) with the names of reviewers. It does this by reading in a tab-separated-values file (TSV) that you will need to copy inside the `input` folder. The table can have any name you want, but the format should always be the same:\n",
    "\n",
    "```markdown\n",
    "Paper (article) file name [TAB] Confirmed Reviewer [TAB] Confirmed reviewer\n",
    "#1PaperFileName.extension [TAB] Reviewer #1 Name [TAB] Reviewer #2 Name\n",
    "#2PaperFileName.extension [TAB] Reviewer #3 Name [TAB] Reviewer #4 Name\n",
    "etc\n",
    "```\n",
    "\n",
    "For an example please refer to the sample [`Papers-and-reviewers.tsv`](https://github.com/damian-romero/damians_code/blob/main/cp_packager/input/Papers-and-reviewers.tsv) table provided with the repository.\n",
    "\n",
    "Once the cp_packager.py script reads the table, it will create folders such as:\n",
    "\n",
    "```markdown\n",
    "- Folder name:\n",
    "    - Reviewer #1 Name\n",
    "- Contents:\n",
    "    - #1PaperFileName.extension\n",
    "    - All files contained in the `contents` folder\n",
    "- Location:\n",
    "    - `\"output\" folder`\n",
    "    \n",
    "```\n",
    "\n",
    "And it will do so for each reviewer."
   ]
  },
  {
   "cell_type": "markdown",
   "metadata": {},
   "source": [
    "## Sample run"
   ]
  },
  {
   "cell_type": "code",
   "execution_count": 21,
   "metadata": {},
   "outputs": [],
   "source": [
    "from src import cp_packager"
   ]
  },
  {
   "cell_type": "markdown",
   "metadata": {},
   "source": [
    "For the following steps we will simulate here the equivalent of typing the following command on the ommand line:\n",
    "```bash\n",
    "$ ./cp_packager --run --test\n",
    "```\n",
    "Notice that the flag `--run` is required to run the script, the flag `--test` will perform a \"dry run\", meaning that no directories will actually be created.\n",
    "\n",
    "Before we procceed, you will need the folder structure indicated in the Coyote Papers Packager tool [README.md](https://github.com/damian-romero/damians_code/blob/main/cp_packager/README.md), minimally:\n",
    "\n",
    "```markdown\n",
    "cp_pakager/\n",
    "├── content\n",
    "│   └── Common files you want in all reviewer packages\n",
    "├── input\n",
    "│   └── Tab-separated-table.tsv\n",
    "├── output\n",
    "│   └── The reviewers' packages will be created here\n",
    "├── papers\n",
    "│   └── AuthorLastName_ALCx.pdf/docx/etc\n",
    "└── src\n",
    "    └── cp_packager.py\n",
    "\n",
    "```\n",
    "\n",
    "Where:\n",
    "\n",
    "1. The `content` directory contains all the common files to be copied to the reviewer folder, for example `Reviewer instructions` files or `Author instruction` files which are used to give reviewers a better idea of what instructions the editorial team gave to the authors.\n",
    "\n",
    "2. The `input` directory should contain your table with the article file names in the first column and the reviewer names in the following columns. Columns may have missing values, but make sure that the spacing is correct and that each column has a name assigned to it (the name is not important).\n",
    "\n",
    "3. The `output` directory will contain the resulting reviewer packages (aka. folders/directories). This directory will be created if it doesn't already exist.\n",
    "\n",
    "4. The `papers` directory must contain the papers (articles) that need reviewing.\n",
    "\n",
    "5. `src` contains the code. You must run the code from inside this folder."
   ]
  },
  {
   "cell_type": "markdown",
   "metadata": {},
   "source": [
    "### Step 1\n",
    "\n",
    "Overwrite the contents of the `Papers-and-reviewers.tsv` or alternatively create your own tsv file and modify the name in `cp_packager.py` in the following line of code:"
   ]
  },
  {
   "cell_type": "code",
   "execution_count": 22,
   "metadata": {},
   "outputs": [],
   "source": [
    "# Name of the tsv file and its folder. Modify as needed.\n",
    "table_file = 'Papers-and-reviewers.tsv'  # Contains paper file names and reviewer names"
   ]
  },
  {
   "cell_type": "markdown",
   "metadata": {},
   "source": [
    "## Step 2\n",
    "\n",
    "Rename directories as needed inside the main() function. For example if you only downloaded the source code and you will be creating custom directories, you should rename these (see below).\n",
    "\n",
    "Note: Do not use full or relative paths. The name of the directory will suffice as long as it is located in the parent directory of the source code is located."
   ]
  },
  {
   "cell_type": "code",
   "execution_count": 23,
   "metadata": {},
   "outputs": [],
   "source": [
    "# Name of the tsv file and its folder. Modify as needed.\n",
    "table_file = 'Papers-and-reviewers.tsv'  # Contains paper file names and reviewer names\n",
    "\n",
    "# Name of the directories to be used by cp_packager. Modify as-needed.\n",
    "input_folder = 'input'  # Contains tsv file.\n",
    "content_folder = 'content'  # Contains common files to be added to all packages\n",
    "papers_folder = 'papers'  # Contains articles (papers) to be added under specific reviewer names\n",
    "output_folder = 'output'  # Where packages will be created"
   ]
  },
  {
   "cell_type": "markdown",
   "metadata": {},
   "source": [
    "### Step 3\n",
    "\n",
    "You don't need to run the lines of code in the block below in your computer. These would be the equivalent of running the following command:\n",
    "\n",
    "```bash\n",
    "$ python3 cp_packager.py --run --test\n",
    "```\n",
    "\n",
    "The result of the code below will show several warnings because the directories for each sample reviewer are already created. If you wish to test run the script on your computer, you can delete the `output` directory and run the script without the --test flag. You can also run the program in safe mode (without using the `--force` flag). This will make the program prompt you before overwritting any directories."
   ]
  },
  {
   "cell_type": "code",
   "execution_count": 24,
   "metadata": {},
   "outputs": [
    {
     "name": "stdout",
     "output_type": "stream",
     "text": [
      "\n",
      "*** WARNING: This is a dry run but if you run cp_packager in normal mode,\n",
      "*** your directory `output` may be overwritten\n",
      "/Users/damianyukioromerodiaz/Projects/damians_code/cp_packager/content/.DS_Store\n",
      "/Users/damianyukioromerodiaz/Projects/damians_code/cp_packager/content/Author_General_Guidelines.pdf\n",
      "/Users/damianyukioromerodiaz/Projects/damians_code/cp_packager/content/Reviewer_Guidelines(ALCx).pdf\n",
      "\n",
      "\n",
      "*** WARNING: This is a dry run but if you run cp_packager in normal mode,\n",
      "*** your directory `Reviewer 1` may be overwritten\n",
      "\n",
      "*** WARNING: This is a dry run but if you run cp_packager in normal mode,\n",
      "*** your directory `Reviewer 2` may be overwritten\n",
      "\n",
      "*** WARNING: This is a dry run but if you run cp_packager in normal mode,\n",
      "*** your directory `Reviewer 3` may be overwritten\n",
      "\n",
      "\n",
      "*** WARNING: This is a dry run but if you run cp_packager in normal mode,\n",
      "*** your directory `Reviewer 1` may be overwritten\n",
      "\n",
      "*** WARNING: This is a dry run but if you run cp_packager in normal mode,\n",
      "*** your directory `Reviewer 4` may be overwritten\n",
      "\n",
      "*** WARNING: This is a dry run but if you run cp_packager in normal mode,\n",
      "*** your directory `Reviewer 5` may be overwritten\n",
      "\n",
      "\n",
      "*** WARNING: This is a dry run but if you run cp_packager in normal mode,\n",
      "*** your directory `Reviewer 6` may be overwritten\n",
      "\n",
      "*** WARNING: This is a dry run but if you run cp_packager in normal mode,\n",
      "*** your directory `Reviewer 7` may be overwritten\n",
      "\n",
      "*** WARNING: This is a dry run but if you run cp_packager in normal mode,\n",
      "*** your directory `Reviewer 8` may be overwritten\n",
      "\n",
      "Process completed\n"
     ]
    }
   ],
   "source": [
    "# The code below may differ from the actual code in cp_packager.py because\n",
    "# that is usually run from the command line from the src/ directory while\n",
    "# this code is run as a module (i.e. __name__!= \"__main__\") and from the\n",
    "# parent directory.\n",
    "\n",
    "parent_dir = cp_packager.Path.cwd()\n",
    "\n",
    "input_path = parent_dir.joinpath(input_folder)\n",
    "content_path = parent_dir.joinpath(content_folder)\n",
    "paperst_path = parent_dir.joinpath(papers_folder)\n",
    "output_path = parent_dir.joinpath(output_folder)\n",
    "table_path = input_path.joinpath(table_file)\n",
    "\n",
    "cp_packager.main(table_path= table_path,\n",
    "     test= True,\n",
    "     force= False,\n",
    "     content_path= content_path,\n",
    "     papers_path= paperst_path,\n",
    "     output_path= output_path)"
   ]
  },
  {
   "cell_type": "code",
   "execution_count": null,
   "metadata": {},
   "outputs": [],
   "source": []
  }
 ],
 "metadata": {
  "kernelspec": {
   "display_name": "Python 3",
   "language": "python",
   "name": "python3"
  },
  "language_info": {
   "codemirror_mode": {
    "name": "ipython",
    "version": 3
   },
   "file_extension": ".py",
   "mimetype": "text/x-python",
   "name": "python",
   "nbconvert_exporter": "python",
   "pygments_lexer": "ipython3",
   "version": "3.8.5"
  }
 },
 "nbformat": 4,
 "nbformat_minor": 4
}
